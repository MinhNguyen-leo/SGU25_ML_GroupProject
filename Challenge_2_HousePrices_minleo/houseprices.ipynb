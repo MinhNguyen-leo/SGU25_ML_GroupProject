{
 "cells": [
  {
   "cell_type": "markdown",
   "id": "d44f2a42",
   "metadata": {},
   "source": [
    "# House Prices Prediction"
   ]
  }
 ],
 "metadata": {
  "language_info": {
   "name": "python"
  }
 },
 "nbformat": 4,
 "nbformat_minor": 5
}
